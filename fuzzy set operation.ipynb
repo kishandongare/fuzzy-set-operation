{
 "cells": [
  {
   "cell_type": "code",
   "execution_count": 10,
   "metadata": {},
   "outputs": [],
   "source": [
    "A= [(1,3),(2,4),(3,5)]\n",
    "B= [(1,5),(2,6),(3,4)]"
   ]
  },
  {
   "cell_type": "code",
   "execution_count": 11,
   "metadata": {},
   "outputs": [
    {
     "name": "stdout",
     "output_type": "stream",
     "text": [
      "Set A :  [(1, 3), (2, 4), (3, 5)] \n",
      "\n",
      "Set B :  [(1, 5), (2, 6), (3, 4)] \n",
      "\n",
      "Algebraic sum:  [(1, -7), (2, -14), (3, -11)] \n",
      "\n",
      "Algebraic difference:  [(1, -4), (2, -5), (3, -3)] \n",
      "\n",
      "Union:  [(1, 5), (2, 6), (3, 5)] \n",
      "\n",
      "Intersection:  [(1, 3), (2, 4), (3, 4)] \n",
      "\n",
      "Complement of A:  [(1, -2), (2, -3), (3, -4)] \n",
      "\n",
      "Complement of B:  [(1, -4), (2, -5), (3, -3)] \n",
      "\n",
      "complement(A) union complement(B):  [(1, -2), (2, -3), (3, -3)] \n",
      "\n",
      "complement(A) intersection complement(B):  [(1, -4), (2, -5), (3, -4)]\n"
     ]
    }
   ],
   "source": [
    "def algSum(A,B):\n",
    "    sum=[]\n",
    "    \n",
    "    for i in A:\n",
    "        for j in B:\n",
    "            if i[0]==j[0]:\n",
    "                sum.append((i[0],(i[1]+j[1]-i[1]*j[1])))\n",
    "    return sum\n",
    "def diff(A,B):\n",
    "    d=[]\n",
    "    B_=complement(B)\n",
    "    for i in A:\n",
    "        for j in B_:\n",
    "            if i[0]==j[0]:\n",
    "                d.append((i[0],min(i[1],j[1])))\n",
    "    return d\n",
    "def union(A,B):\n",
    "    union=[]\n",
    "\n",
    "    for i in A:\n",
    "        for j in B:\n",
    "            if i[0] == j[0]:\n",
    "                union.append((i[0],max(i[1],j[1])))\n",
    "\n",
    "    return union\n",
    "     \n",
    "def intersect(A,B):\n",
    "    intersection=[]\n",
    "    for i in A:\n",
    "        for j in B:\n",
    "            if i[0] == j[0]:\n",
    "                intersection.append((i[0],min(i[1],j[1])))\n",
    "    return intersection\n",
    "      \n",
    "    \n",
    "def complement(A):\n",
    "    A_=[]\n",
    "\n",
    "    for i in A:\n",
    "        A_.append((i[0],1-i[1]))\n",
    "    return A_\n",
    "\n",
    "print(\"Set A : \", A,\"\\n\")\n",
    "print(\"Set B : \", B,\"\\n\")\n",
    "\n",
    "asum=algSum(A,B)\n",
    "print(\"Algebraic sum: \",asum,\"\\n\")\n",
    "\n",
    "dif=diff(A,B)\n",
    "print(\"Algebraic difference: \",dif,\"\\n\")\n",
    "\n",
    "\n",
    "u=union(A,B)\n",
    "print(\"Union: \",u,\"\\n\")\n",
    "\n",
    "inter=intersect(A,B)\n",
    "print(\"Intersection: \", inter,\"\\n\")\n",
    "\n",
    "com=complement(A)\n",
    "print(\"Complement of A: \",com,\"\\n\")\n",
    "\n",
    "com=complement(B)\n",
    "print(\"Complement of B: \",com,'\\n')\n",
    "\n",
    "print(\"complement(A) union complement(B): \", union(complement(A),complement(B)),\"\\n\")\n",
    "print(\"complement(A) intersection complement(B): \", intersect(complement(A),complement(B)))\n"
   ]
  },
  {
   "cell_type": "code",
   "execution_count": null,
   "metadata": {},
   "outputs": [],
   "source": []
  }
 ],
 "metadata": {
  "kernelspec": {
   "display_name": "Python 3",
   "language": "python",
   "name": "python3"
  },
  "language_info": {
   "codemirror_mode": {
    "name": "ipython",
    "version": 3
   },
   "file_extension": ".py",
   "mimetype": "text/x-python",
   "name": "python",
   "nbconvert_exporter": "python",
   "pygments_lexer": "ipython3",
   "version": "3.7.0"
  }
 },
 "nbformat": 4,
 "nbformat_minor": 4
}
